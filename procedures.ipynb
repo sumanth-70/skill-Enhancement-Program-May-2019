{
 "cells": [
  {
   "cell_type": "markdown",
   "metadata": {},
   "source": [
    "# Problem Solving and Programing\n",
    "\n",
    "## Day-11 \n",
    "\n",
    "## Date-9th May 2019\n"
   ]
  },
  {
   "cell_type": "markdown",
   "metadata": {},
   "source": [
    "### Problem 1:\n",
    "\n",
    "#### Problem Statement: Greet User."
   ]
  },
  {
   "cell_type": "code",
   "execution_count": 2,
   "metadata": {},
   "outputs": [
    {
     "name": "stdout",
     "output_type": "stream",
     "text": [
      "Hello user\n"
     ]
    }
   ],
   "source": [
    "print(\"Hello user\")"
   ]
  },
  {
   "cell_type": "markdown",
   "metadata": {},
   "source": [
    "### Problem2\n",
    "\n",
    "#### Problem Statement: Greeting a specific user"
   ]
  },
  {
   "cell_type": "code",
   "execution_count": 3,
   "metadata": {},
   "outputs": [
    {
     "name": "stdout",
     "output_type": "stream",
     "text": [
      "Enter the user nameSumanth\n",
      "Hello Sumanth\n"
     ]
    }
   ],
   "source": [
    "a=input(\"Enter the user name\")\n",
    "print(f'Hello {a}')"
   ]
  },
  {
   "cell_type": "markdown",
   "metadata": {},
   "source": [
    "### Problem3\n",
    "\n",
    "#### Problem Statement:Arithmatic Operations\n"
   ]
  },
  {
   "cell_type": "code",
   "execution_count": 7,
   "metadata": {},
   "outputs": [
    {
     "name": "stdout",
     "output_type": "stream",
     "text": [
      "Enter a4\n",
      "Enter b7\n",
      "sum is: 11\n",
      "difference is: -3\n",
      "product is: 28\n",
      "Dividion is: 0.5714285714285714\n",
      "modulus is: 4\n"
     ]
    }
   ],
   "source": [
    "a=int(input('Enter a'))\n",
    "b=int(input('Enter b'))\n",
    "sum=a+b\n",
    "diff=a-b\n",
    "prod=a*b\n",
    "div=a/b\n",
    "mod=a%b\n",
    "print(f'sum is: {sum}')\n",
    "print(f'difference is: {diff}')\n",
    "print(f'product is: {prod}')\n",
    "print(f'Dividion is: {div}')\n",
    "print(f'modulus is: {mod}')"
   ]
  },
  {
   "cell_type": "markdown",
   "metadata": {},
   "source": [
    "### Problem4\n",
    "\n",
    "#### Problem Statemnet: To check the given number is 'Even' or 'Odd'"
   ]
  },
  {
   "cell_type": "code",
   "execution_count": 9,
   "metadata": {},
   "outputs": [
    {
     "name": "stdout",
     "output_type": "stream",
     "text": [
      "Enter the number5\n",
      "5 is odd\n"
     ]
    }
   ],
   "source": [
    "a=int(input('Enter the number'))\n",
    "if (a%2==0):\n",
    "    print(f'{a} is an Even')\n",
    "else:\n",
    "    print(f'{a} is odd')"
   ]
  },
  {
   "cell_type": "markdown",
   "metadata": {},
   "source": [
    "### Problem5\n",
    "\n",
    "#### Problem Statement:Finding greatest of three numbers\n",
    "    "
   ]
  },
  {
   "cell_type": "code",
   "execution_count": 11,
   "metadata": {},
   "outputs": [
    {
     "name": "stdout",
     "output_type": "stream",
     "text": [
      "Enter the number2\n",
      "Enter the number23\n",
      "Enter the number45\n",
      "45 is a greatest number\n"
     ]
    }
   ],
   "source": [
    "a= int(input('Enter the number'))\n",
    "b= int(input('Enter the number'))\n",
    "c= int(input('Enter the number'))\n",
    "if(a>b and a>c):\n",
    "    print(f'{a} is a greatest number')\n",
    "elif(b>a and b>c):\n",
    "    print(f'{b} is a greatest number')\n",
    "else:\n",
    "    print(f'{c} is a greatest number')\n",
    "\n",
    "    "
   ]
  },
  {
   "cell_type": "markdown",
   "metadata": {},
   "source": [
    "### Problem 6:\n",
    "\n",
    "#### Problem Statement:Testing Divisibility with 2 and 3 but not 4."
   ]
  },
  {
   "cell_type": "code",
   "execution_count": 13,
   "metadata": {},
   "outputs": [
    {
     "data": {
      "text/plain": [
       "False"
      ]
     },
     "execution_count": 13,
     "metadata": {},
     "output_type": "execute_result"
    }
   ],
   "source": [
    "def checkDivisibility(n):\n",
    "    if(n%2==0 and n%3==0 and n%4!=0):\n",
    "        return True\n",
    "    else:\n",
    "        return False\n",
    "checkDivisibility(12)    \n"
   ]
  },
  {
   "cell_type": "markdown",
   "metadata": {},
   "source": [
    "### Problem7\n",
    "\n",
    "#### Problem Statement:Give 2 int values, return True if one is negative and one is positive.Except if the parameter \"negative\" is True ,then return true only if both are negative.\n",
    "\n",
    "#### Constraints: \n",
    "\n",
    "#### Test Cases:\n",
    "\n",
    "* pos_neg(1,-1,False)->True \n",
    "* pos_neg(-1,1,False)->True\n",
    "* pos_neg(-4,-5,True)->True\n",
    "* pos_neg(-1,-1,True)->False\n",
    "* pos_neg(4,6,False)->False\n",
    "* pos_neg(-1,-6,False)->False"
   ]
  },
  {
   "cell_type": "code",
   "execution_count": 14,
   "metadata": {},
   "outputs": [
    {
     "name": "stdout",
     "output_type": "stream",
     "text": [
      "True\n",
      "True\n",
      "True\n",
      "True\n",
      "False\n",
      "False\n"
     ]
    }
   ],
   "source": [
    "def pos_neg(n1,n2,a):\n",
    "    if((n1<0 and n2>0 and a==False) or (n1>0 and n2<0 and a==False) or (n1<0 and n2<0 and a==True)):\n",
    "        return True\n",
    "    else:\n",
    "        return False\n",
    "print(pos_neg(1,-1,False))\n",
    "print(pos_neg(-1,1,False))\n",
    "print(pos_neg(-4,-5,True))\n",
    "print(pos_neg(-1,-1,True))\n",
    "print(pos_neg(4,6,False))\n",
    "print(pos_neg(-1,-6,False))"
   ]
  },
  {
   "cell_type": "code",
   "execution_count": 20,
   "metadata": {},
   "outputs": [
    {
     "name": "stdout",
     "output_type": "stream",
     "text": [
      "True\n",
      "True\n",
      "True\n",
      "True\n",
      "False\n",
      "False\n"
     ]
    }
   ],
   "source": [
    "def pos_neg(n1,n2,a):\n",
    "    return(n1<0 and n2>0 and a==False) or (n1>0 and n2<0 and a==False) or (n1<0 and n2<0 and a==True)\n",
    "\n",
    "print(pos_neg(1,-1,False))\n",
    "print(pos_neg(-1,1,False))\n",
    "print(pos_neg(-4,-5,True))\n",
    "print(pos_neg(-1,-1,True))\n",
    "print(pos_neg(4,6,False))\n",
    "print(pos_neg(-1,-6,False))"
   ]
  },
  {
   "cell_type": "markdown",
   "metadata": {},
   "source": [
    "### Problem8\n",
    "\n",
    "#### Problem Statement: Given two ints a and b return true if one of them is ten or if their sum is ten.\n",
    "\n",
    "#### Constraints: Given numbers will be in range [1,100000000]\n",
    "\n",
    "#### Test Cases:\n",
    "* makes10(9,10)-> True\n",
    "* makes10(9,9)-> False\n",
    "* makes10(1,9)-> True\n"
   ]
  },
  {
   "cell_type": "code",
   "execution_count": 3,
   "metadata": {},
   "outputs": [
    {
     "name": "stdout",
     "output_type": "stream",
     "text": [
      "True\n",
      "False\n",
      "True\n"
     ]
    }
   ],
   "source": [
    "def makes10(n1,n2):\n",
    "    if((n1==10 or n2==10) or (n1==10 and n2==10) or (n1+n2==10)):\n",
    "        return True\n",
    "    else:\n",
    "        return False\n",
    "print(makes10(9,10))\n",
    "print(makes10(9,9))\n",
    "print(makes10(1,9))"
   ]
  },
  {
   "cell_type": "markdown",
   "metadata": {},
   "source": [
    "### Problem 9:\n",
    "\n",
    "#### Problem Statement:Create a Random Number Generator as a Procedure which takes the Range(lb, ub) and returns a Random number in the given range.\n",
    "\n",
    "#### Constraints:Given numbers will be in the range[1,1000000000]\n",
    "\n",
    "#### Test Cases:\n",
    "* RandomGenerator(1,100)-> will be in range (1,100)"
   ]
  },
  {
   "cell_type": "code",
   "execution_count": 4,
   "metadata": {},
   "outputs": [
    {
     "data": {
      "text/plain": [
       "48"
      ]
     },
     "execution_count": 4,
     "metadata": {},
     "output_type": "execute_result"
    }
   ],
   "source": [
    "import random\n",
    "def randomGenerator(lb,ub):\n",
    "    return random.randrange(lb+1,ub)\n",
    "randomGenerator(1,101)"
   ]
  },
  {
   "cell_type": "markdown",
   "metadata": {},
   "source": [
    "### Problem 10:\n",
    "\n",
    "#### Problem Statement:Given an integer N,calculate the sum of  n natural numbers in the range [0,1000000000000000]\n",
    "\n",
    "#### Constraints:Given constraints will be in the range [1,1000000000000000]\n",
    "\n",
    "#### Test Cases:\n",
    "* RandomGenerator(1,100)-> will be in range (1,100)"
   ]
  },
  {
   "cell_type": "code",
   "execution_count": 7,
   "metadata": {},
   "outputs": [
    {
     "data": {
      "text/plain": [
       "486050144131362189"
      ]
     },
     "execution_count": 7,
     "metadata": {},
     "output_type": "execute_result"
    }
   ],
   "source": [
    "import random\n",
    "def sumRandomNumbers(n,lb,ub):\n",
    "    sum=0\n",
    "    for count in range(1,n+1):\n",
    "        sum=sum+ random.randint(lb,ub)\n",
    "    return sum\n",
    "sumRandomNumbers(100,0,10000000000000000)"
   ]
  },
  {
   "cell_type": "markdown",
   "metadata": {},
   "source": [
    "### problem 11:\n",
    "#### Problem Statement: Design a procedure to perform a linear search on listof N unsorted unique numbers.It takes an array and a key element to be searched and returns the index of the element of key element if found .Else resurns -1.\n",
    "\n",
    "\n",
    "\n",
    "#### Given numbers will be in range [1,100000000]\n"
   ]
  },
  {
   "cell_type": "code",
   "execution_count": 2,
   "metadata": {},
   "outputs": [
    {
     "data": {
      "text/plain": [
       "True"
      ]
     },
     "execution_count": 2,
     "metadata": {},
     "output_type": "execute_result"
    }
   ],
   "source": [
    "a=[1,4,8,0,3,5,6]\n",
    "0 in a"
   ]
  },
  {
   "cell_type": "code",
   "execution_count": 3,
   "metadata": {},
   "outputs": [
    {
     "data": {
      "text/plain": [
       "True"
      ]
     },
     "execution_count": 3,
     "metadata": {},
     "output_type": "execute_result"
    }
   ],
   "source": [
    "b=[15,16,9,6,3,-3]\n",
    "-3 in b\n"
   ]
  },
  {
   "cell_type": "code",
   "execution_count": 1,
   "metadata": {},
   "outputs": [
    {
     "name": "stdout",
     "output_type": "stream",
     "text": [
      "-1\n",
      "2\n",
      "1\n"
     ]
    }
   ],
   "source": [
    "def linearSearch(a,key):\n",
    "    for i in range(0,len(a)):\n",
    "        if(a[i]==key):\n",
    "            return i\n",
    "    return -1\n",
    "print(linearSearch([15,12,9,3,-3],0))\n",
    "print(linearSearch([15,12,9,6,3,-3],9))\n",
    "print(linearSearch([15,3,9,6,3,-3],3))"
   ]
  },
  {
   "cell_type": "markdown",
   "metadata": {},
   "source": [
    "### Problem 12:\n",
    "\n",
    "#### Problem Statement:Given an int n, return True if it is within 10 of 100 or 200. Note: abs(num) computes the absolute value of a number.\n",
    "\n",
    "#### Constraints:Given numbers will be in the range [1,1000000000]\n",
    "\n",
    "#### Test Cases:\n",
    "* near_hundred(93) → True\n",
    "* near_hundred(90) → True\n",
    "* near_hundred(89) → False"
   ]
  },
  {
   "cell_type": "markdown",
   "metadata": {},
   "source": [
    "### Problem 13:\n",
    "\n",
    "#### Problem Statement:Designing Procedures for Basic Arithmatic Operations."
   ]
  },
  {
   "cell_type": "code",
   "execution_count": 4,
   "metadata": {},
   "outputs": [
    {
     "name": "stdout",
     "output_type": "stream",
     "text": [
      "Sum=7\n",
      "Diff=-3\n",
      "Prod=10\n",
      "Div=0.4\n",
      "Mod=2\n"
     ]
    }
   ],
   "source": [
    "def Ari_op(a,b):\n",
    "    add=a+b\n",
    "    sub=a-b\n",
    "    mul=a*b\n",
    "    div=a/b\n",
    "    mod=a%b\n",
    "    print(f'Sum={add}')\n",
    "    print(f'Diff={sub}')\n",
    "    print(f'Prod={mul}')\n",
    "    print(f'Div={div}')\n",
    "    print(f'Mod={mod}')\n",
    "Ari_op(2,5)    "
   ]
  },
  {
   "cell_type": "markdown",
   "metadata": {},
   "source": [
    "### Problem 14:\n",
    "\n",
    "#### Problem Statement: Procedure to print N natural numbers.\n"
   ]
  },
  {
   "cell_type": "code",
   "execution_count": 18,
   "metadata": {},
   "outputs": [
    {
     "name": "stdout",
     "output_type": "stream",
     "text": [
      "0 1 2 3 4 5 6 7 8 9 10 11 12 13 14 15 16 17 "
     ]
    }
   ],
   "source": [
    "def n_nat(n):\n",
    "    for i in range(0,n+1):\n",
    "        print(i ,end=\" \")\n",
    "    return    \n",
    "n_nat(17)"
   ]
  },
  {
   "cell_type": "markdown",
   "metadata": {},
   "source": [
    "### Problem 15:\n",
    "\n",
    "#### Problem Statement:Procedure to calculate factorial of given numbers.\n"
   ]
  },
  {
   "cell_type": "code",
   "execution_count": 17,
   "metadata": {},
   "outputs": [
    {
     "data": {
      "text/plain": [
       "120"
      ]
     },
     "execution_count": 17,
     "metadata": {},
     "output_type": "execute_result"
    }
   ],
   "source": [
    "def factorial(n):\n",
    "    fact=1\n",
    "    for i in range(n,0,-1):\n",
    "        fact=fact*i\n",
    "    return fact\n",
    "factorial(5)      "
   ]
  },
  {
   "cell_type": "markdown",
   "metadata": {},
   "source": [
    "### Problem 16:\n",
    "\n",
    "#### Problem Statement: To Evaluate the polynomial f(x)=x^3+2x^2+3x-10.\n",
    "\n",
    "#### Constraint: X in range [1,1000]."
   ]
  },
  {
   "cell_type": "code",
   "execution_count": 20,
   "metadata": {},
   "outputs": [
    {
     "data": {
      "text/plain": [
       "44"
      ]
     },
     "execution_count": 20,
     "metadata": {},
     "output_type": "execute_result"
    }
   ],
   "source": [
    "def eval(x):\n",
    "    f=x**3+2*x**2+3*x-10\n",
    "    return f\n",
    "eval(3)\n",
    "\n"
   ]
  },
  {
   "cell_type": "markdown",
   "metadata": {},
   "source": [
    "### Problem 17:\n",
    "\n",
    "#### Problem Statement: Design a procedure to determine if a string is palindrome.\n",
    "\n",
    "#### Test Cases:\n",
    "* Palindrome(\"racecar\")\n",
    "* palindrome(\"raptor\")\n"
   ]
  },
  {
   "cell_type": "code",
   "execution_count": 21,
   "metadata": {},
   "outputs": [
    {
     "data": {
      "text/plain": [
       "True"
      ]
     },
     "execution_count": 21,
     "metadata": {},
     "output_type": "execute_result"
    }
   ],
   "source": [
    "def palindrome(s):\n",
    "    rs = s[ :  :1]\n",
    "    if (s == rs):\n",
    "        return True\n",
    "    return False\n",
    "palindrome('racecar')"
   ]
  },
  {
   "cell_type": "markdown",
   "metadata": {},
   "source": [
    "### Problem 18:\n",
    "\n",
    "#### Procedure to generate Multiplication Tables.\n",
    "\n",
    "#### Test Cases:\n",
    "*MT(3,5,7)-> 3 x 5 = 15\n",
    "             3 x 6 = 18\n",
    "             3 x 7 = 21   "
   ]
  },
  {
   "cell_type": "code",
   "execution_count": 24,
   "metadata": {},
   "outputs": [
    {
     "name": "stdout",
     "output_type": "stream",
     "text": [
      "3*5=15\n",
      "3*6=18\n",
      "3*7=21\n"
     ]
    }
   ],
   "source": [
    "def Mul_tab(tablename,lb,ub):\n",
    "    for i in range(lb,ub+1):\n",
    "        print(f'{tablename}*{i}={tablename*i}')\n",
    "    return\n",
    "Mul_tab(3,5,7)"
   ]
  },
  {
   "cell_type": "markdown",
   "metadata": {},
   "source": [
    "### Problem 19:\n",
    "\n",
    "#### Problem Statement: Procedure to print thelist of factors of a given number.\n",
    "\n",
    "#### Test Case:\n",
    "* Factorlist(6) -> 1 2 3 6\n",
    "* Factorlist(9) -> 1 3 9\n",
    "* Factorlist(19 -> 1 19"
   ]
  },
  {
   "cell_type": "code",
   "execution_count": 26,
   "metadata": {},
   "outputs": [
    {
     "name": "stdout",
     "output_type": "stream",
     "text": [
      "1 3 9 "
     ]
    }
   ],
   "source": [
    "def Factors(n):\n",
    "    for i in range(1,n+1):\n",
    "        if(n%i==0):\n",
    "            print(i,end=\" \")\n",
    "    return\n",
    "Factors(9)"
   ]
  },
  {
   "cell_type": "markdown",
   "metadata": {},
   "source": [
    "### Problem 20:\n",
    "\n",
    "#### Problem Statement:Procedure to check if a given number is Prime and returns a Boolean value.\n",
    "\n",
    "#### Test Case:\n",
    "* IsPrime(7) -> True\n",
    "* IsPrime(9) -> False"
   ]
  },
  {
   "cell_type": "code",
   "execution_count": 39,
   "metadata": {},
   "outputs": [
    {
     "data": {
      "text/plain": [
       "True"
      ]
     },
     "execution_count": 39,
     "metadata": {},
     "output_type": "execute_result"
    }
   ],
   "source": [
    "def Prime(n):\n",
    "    count=0\n",
    "    for i in range(2,n):\n",
    "        if(n%i==0):\n",
    "            count=count+1\n",
    "    if (count==0):\n",
    "        return True \n",
    "    else:\n",
    "        return False\n",
    "Prime(7)    "
   ]
  },
  {
   "cell_type": "code",
   "execution_count": null,
   "metadata": {},
   "outputs": [],
   "source": []
  },
  {
   "cell_type": "code",
   "execution_count": null,
   "metadata": {},
   "outputs": [],
   "source": []
  }
 ],
 "metadata": {
  "kernelspec": {
   "display_name": "Python 3",
   "language": "python",
   "name": "python3"
  },
  "language_info": {
   "codemirror_mode": {
    "name": "ipython",
    "version": 3
   },
   "file_extension": ".py",
   "mimetype": "text/x-python",
   "name": "python",
   "nbconvert_exporter": "python",
   "pygments_lexer": "ipython3",
   "version": "3.7.3"
  }
 },
 "nbformat": 4,
 "nbformat_minor": 2
}
