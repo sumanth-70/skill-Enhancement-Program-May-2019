{
 "cells": [
  {
   "cell_type": "markdown",
   "metadata": {},
   "source": [
    "# Problem Solving and Programming\n",
    "\n",
    "\n",
    "## Day:13\n",
    "\n",
    "\n",
    "## Date: 11th May 2019\n",
    "\n",
    "## Day Objectives: To slove the given problems."
   ]
  },
  {
   "cell_type": "markdown",
   "metadata": {},
   "source": [
    "### Problem 1:\n",
    "\n",
    "#### Problem Statement: Define a function to merge the characters of two strings alternatively. The remaining charactersof the longer string are printed in the same order at the end.\n",
    "\n",
    "#### Test Cases:\n",
    "* mergeString('abcd', 'abcd') -> 'aabbccdd'\n",
    "* mergeString('abc', '123456') -> 'a1b2c3456'\n",
    "* mergeString('0', '123456') -> '0123456'"
   ]
  },
  {
   "cell_type": "code",
   "execution_count": 6,
   "metadata": {},
   "outputs": [
    {
     "name": "stdout",
     "output_type": "stream",
     "text": [
      "a1b2c345"
     ]
    }
   ],
   "source": [
    "def mergestring(str1,str2):\n",
    "    if len(str1) < len(str2):\n",
    "        small=str1\n",
    "    else:\n",
    "        small=str2\n",
    "    for i in range(0,len(small)):\n",
    "        print(str1[i]+str2[i],end=\"\")\n",
    "    j=len(small)\n",
    "    if str1==small:\n",
    "        while j < len(str2):\n",
    "            print(str2[j],end=\"\")\n",
    "            j=j+1\n",
    "        else:\n",
    "            while j < len(str1):\n",
    "                print(str1[j],end=\"\")\n",
    "                j=j+1\n",
    "mergestring('abc','12345')    "
   ]
  },
  {
   "cell_type": "markdown",
   "metadata": {},
   "source": [
    "### Problem 2:\n",
    "\n",
    "#### ProblemStatement: Define a function to convert a binary number to the corresponding decimal number.\n",
    "\n",
    "#### Test Cases: \n",
    "\n",
    "* binaryToDecimal(1100) -> 12\n",
    "* binaryToDecimal(1010) -> 10\n",
    "* binaryToDecimal(111000) -> 56"
   ]
  },
  {
   "cell_type": "code",
   "execution_count": 11,
   "metadata": {},
   "outputs": [
    {
     "data": {
      "text/plain": [
       "56"
      ]
     },
     "execution_count": 11,
     "metadata": {},
     "output_type": "execute_result"
    }
   ],
   "source": [
    "def btd(n):\n",
    "    add=0\n",
    "    i=0\n",
    "    while n>0:\n",
    "        r=n%10\n",
    "        add=add+r*2**i\n",
    "        n=int(n/10)\n",
    "        i=i+1\n",
    "    return (add)\n",
    "btd(111000)    "
   ]
  },
  {
   "cell_type": "markdown",
   "metadata": {},
   "source": [
    "### Problem 3:\n",
    "\n",
    "#### ProblemStatement:Define a function to identity the number of times a substring is repeating in a given string. \n",
    "\n",
    "#### Test Cases: \n",
    "\n",
    "* substringCount('str', 'substr') -> 1\n",
    "* substringCount('1234567891122334455', '3') -> 3\n",
    "* substringCount('abccddccc', 'cc') -> 3\n",
    "* substringCount('aaaaaaa', 'aaa' ) -> 5"
   ]
  },
  {
   "cell_type": "code",
   "execution_count": 17,
   "metadata": {},
   "outputs": [
    {
     "data": {
      "text/plain": [
       "5"
      ]
     },
     "execution_count": 17,
     "metadata": {},
     "output_type": "execute_result"
    }
   ],
   "source": [
    "def substringcounter(str1,str2):\n",
    "    count=0\n",
    "    if len(str1) < len(str2):\n",
    "        small=str1\n",
    "        big=str2\n",
    "    else:\n",
    "        small=str2\n",
    "        big=str1\n",
    "    blen=len(big)\n",
    "    slen=len(small)\n",
    "    for i in range (0,blen-slen+1):\n",
    "        if small[:]==big[i:slen+i]:\n",
    "            count=count+1\n",
    "    return count\n",
    "substringcounter('aaaaaaa','aaa')        "
   ]
  },
  {
   "cell_type": "markdown",
   "metadata": {},
   "source": [
    "### Problem 4:\n",
    "\n",
    "#### ProblemStatement:Define a function to check if a given year is a leap year. Returns a boolean value.\n",
    "\n",
    "#### Test Cases:\n",
    "\n",
    "* 2000 -> True\n",
    "* 1900 -> False\n",
    "* 2012 -> True\n",
    "* 2020 -> True\n",
    "* 0200 -> False"
   ]
  },
  {
   "cell_type": "code",
   "execution_count": 1,
   "metadata": {},
   "outputs": [
    {
     "data": {
      "text/plain": [
       "True"
      ]
     },
     "execution_count": 1,
     "metadata": {},
     "output_type": "execute_result"
    }
   ],
   "source": [
    "def leapyear(year):\n",
    "    return((year%4==0 and year%100!=0) or (year%400==0))\n",
    "leapyear(2012)"
   ]
  },
  {
   "cell_type": "markdown",
   "metadata": {},
   "source": [
    "### Problem 5:\n",
    "\n",
    "#### ProblemStatement: Define a function to find the average of all the outer elements of an N x M matrix.\n",
    "\n",
    "#### Test Cases:\n",
    "\n",
    "* averageOuterMatrix([[1, 2, 3], [4, 5, 6], [7, 8, 9], [10, 11, 12]] -> 4.5"
   ]
  },
  {
   "cell_type": "code",
   "execution_count": 23,
   "metadata": {},
   "outputs": [
    {
     "data": {
      "text/plain": [
       "6.5"
      ]
     },
     "execution_count": 23,
     "metadata": {},
     "output_type": "execute_result"
    }
   ],
   "source": [
    "def AvgOutMat(a):\n",
    "    sum=0\n",
    "    count=0\n",
    "    for i in range(0,len(a)):\n",
    "        if i==0 or i==len(a)-1:\n",
    "            for j in range(0,len(a[i])):\n",
    "                sum=sum+a[i][j]\n",
    "                count=count+1\n",
    "        else:\n",
    "            sum=sum+a[i][0]+a[i][len(a[i])-1]\n",
    "            count=count+2\n",
    "    return sum/count\n",
    "AvgOutMat([[1,2,3],[4,5,6],[7,8,9],[10,11,12]])\n",
    "        \n",
    "            "
   ]
  },
  {
   "cell_type": "markdown",
   "metadata": {},
   "source": [
    "### Problem 6:\n",
    "\n",
    "#### ProblemStatement:Define a function to print the sequence of spiral pattern elements for a given N x N matrix.\n",
    "\n",
    "#### Test Cases:\n",
    "\n",
    "* spiralPattern([[1,2,3], [4,5,6], [7,8,9]]) -> 1 2 3 6 9 8 7 4 5\n"
   ]
  },
  {
   "cell_type": "code",
   "execution_count": 3,
   "metadata": {},
   "outputs": [
    {
     "name": "stdout",
     "output_type": "stream",
     "text": [
      "123698745"
     ]
    }
   ],
   "source": [
    "def spiral(a):\n",
    "    n=len(a)-1\n",
    "    for j in range(0,len(a[0])):\n",
    "        print(a[0][j],end=\"\")\n",
    "    i=1\n",
    "    while(i<len(a)-1):\n",
    "        print(a[i][len(a[n])-1],end=\"\")\n",
    "        i=i+1\n",
    "    for j in range(len(a[n])-1,-1,-1):\n",
    "        print(a[n][j],end=\"\")\n",
    "    i=n-1\n",
    "    while i>0:\n",
    "        print(a[i][0],end=\"\")\n",
    "        i=i-1\n",
    "    for i in range(1,len(a)-1):\n",
    "        for j in range(1,len(a[i])-1):\n",
    "            print(a[i][j],end=\"\")\n",
    "spiral([[1,2,3],[4,5,6],[7,8,9]])            \n",
    "            \n",
    "    "
   ]
  },
  {
   "cell_type": "markdown",
   "metadata": {},
   "source": [
    "### Problem 7:\n",
    "\n",
    "#### ProblemStatement: Define a function to convert a decimal number to the corresponding binary number.\n",
    "\n",
    "#### Test Cases:\n",
    "\n",
    "* decimalToBinary(15) -> 1111\n",
    "* decimalToBinary(1) -> 1"
   ]
  },
  {
   "cell_type": "code",
   "execution_count": 9,
   "metadata": {},
   "outputs": [
    {
     "name": "stdout",
     "output_type": "stream",
     "text": [
      "1111"
     ]
    }
   ],
   "source": [
    "def Dtb(n):\n",
    "    if n>1:\n",
    "        Dtb (n//2)\n",
    "    print(n%2,end=\"\")\n",
    "Dtb(15)    "
   ]
  }
 ],
 "metadata": {
  "kernelspec": {
   "display_name": "Python 3",
   "language": "python",
   "name": "python3"
  },
  "language_info": {
   "codemirror_mode": {
    "name": "ipython",
    "version": 3
   },
   "file_extension": ".py",
   "mimetype": "text/x-python",
   "name": "python",
   "nbconvert_exporter": "python",
   "pygments_lexer": "ipython3",
   "version": "3.7.3"
  }
 },
 "nbformat": 4,
 "nbformat_minor": 2
}
