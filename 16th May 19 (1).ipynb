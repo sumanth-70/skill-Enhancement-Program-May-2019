{
 "cells": [
  {
   "cell_type": "markdown",
   "metadata": {},
   "source": [
    "# Problem Solving and Programing\n",
    "\n",
    "## DAY:18\n",
    "\n",
    "## Date:16th May 2019¶"
   ]
  },
  {
   "cell_type": "markdown",
   "metadata": {},
   "source": [
    "### Problem 1:\n",
    "\n",
    "#### Problem Statement:Define a function to read data from a text file."
   ]
  },
  {
   "cell_type": "code",
   "execution_count": 8,
   "metadata": {},
   "outputs": [
    {
     "name": "stdout",
     "output_type": "stream",
     "text": [
      "Data in line 1 \n",
      "\n",
      "Data in line 2\n",
      "\n",
      "Data in line 3\n",
      "\n",
      "\n",
      "\n"
     ]
    }
   ],
   "source": [
    "def readFileData(filename):\n",
    "    with open(filename,'r') as f:    # f = open(filename,'r')\n",
    "        for line in f:\n",
    "            print(line)\n",
    "  #  filedata=f.readline()\n",
    "       ## filedata=f.read()\n",
    "  # f.close()\n",
    "    return  #filedata\n",
    "readFileData('DataFiles/data.txt')"
   ]
  },
  {
   "cell_type": "code",
   "execution_count": 9,
   "metadata": {
    "scrolled": true
   },
   "outputs": [
    {
     "name": "stdout",
     "output_type": "stream",
     "text": [
      "Data in line 1 \n",
      "\n",
      "Data in line 2\n",
      "\n",
      "Data in line 3\n",
      "\n",
      "\n",
      "\n"
     ]
    }
   ],
   "source": [
    "def readFileData(filename):\n",
    "    with open(filename,'r') as f:    \n",
    "        for line in f:\n",
    "            print(line)\n",
    "        return    \n",
    "\n",
    "readFileData('DataFiles/data.txt')"
   ]
  },
  {
   "cell_type": "code",
   "execution_count": 11,
   "metadata": {},
   "outputs": [],
   "source": [
    "def writeIntoFile(filename,data):\n",
    "    with open(filename,'w') as f:\n",
    "        f.write(data)\n",
    "    return \n",
    "        \n",
    "writeIntoFile('DataFiles/fileWrite.txt','data written into filewrite')"
   ]
  },
  {
   "cell_type": "code",
   "execution_count": 12,
   "metadata": {},
   "outputs": [],
   "source": [
    "def writeIntoFile(filename,data,mode):\n",
    "    with open(filename,mode) as f:\n",
    "        f.write(data)\n",
    "    return \n",
    "        \n",
    "writeIntoFile('DataFiles/fileWrite.txt','third line\\n','a')"
   ]
  },
  {
   "cell_type": "markdown",
   "metadata": {},
   "source": [
    "### Problem 2:\n",
    "\n",
    "#### Problem Statement:Define a function to generate a marks data file for 1300 students such that each mark is entered in a new line. Marks range from 0 to 100 (inclusive) as random numbers."
   ]
  },
  {
   "cell_type": "code",
   "execution_count": null,
   "metadata": {},
   "outputs": [],
   "source": [
    "import random\n",
    "def generateMarksData(n,filename):\n",
    "    with open(filename,'w')as marksfile:\n",
    "        for i in range(0,n):\n",
    "            marks=random.randint(0,101)\n",
    "            marksfile.write(str(marks)+'\\n')\n",
    "    return\n",
    "generateMarksData(1300,'DataFiles/marksData.txt')"
   ]
  },
  {
   "cell_type": "markdown",
   "metadata": {},
   "source": [
    "### Problem 3:\n",
    "\n",
    "#### Problem Statement:Generate a report on the marks data with the following indicators.\n",
    "\n",
    "* Highest Mark\n",
    "* Lowest Mark\n",
    "* Average Mark\n",
    "* No.of students with Distinction(>80)\n",
    "* No.of Students with First class(>60)\n",
    "* No.of Students with Second class(>50)\n",
    "* No.of Students with Third class(>40)\n",
    "* No.of Students Failed(<40)"
   ]
  },
  {
   "cell_type": "code",
   "execution_count": 14,
   "metadata": {},
   "outputs": [],
   "source": [
    "import random\n",
    "def readMarksFromFile(filename):\n",
    "    marks_li=[]\n",
    "    with open (filename,'r') as f:\n",
    "        for x in f:\n",
    "            marks_li.append(int(x))\n",
    "    return writeMarksIntoFile('DataFiles/reportFile.txt',marks_li)\n",
    "def writeMarksIntoFile(filename,arr):\n",
    "    dist=0\n",
    "    first=0\n",
    "    second=0\n",
    "    third=0\n",
    "    fail=0\n",
    "    with open(filename,'w') as reportFile:\n",
    "        reportFile.write(\"Highest is: \"+str(max(arr))+'\\n')\n",
    "        reportFile.write(\"Lowest is: \"+str(min(arr))+'\\n')\n",
    "        reportFile.write(\"Average is: \"+str(sum(arr)//len(arr))+'\\n')\n",
    "        for i in range(0,len(arr)):\n",
    "            if(arr[i]>=80):\n",
    "                dist=dist+1\n",
    "            elif(arr[i]>=60 and arr[i]<80):\n",
    "                first=first+1\n",
    "            elif(arr[i]>=50 and arr[i]<60):\n",
    "                second=second+1\n",
    "            elif(arr[i]>=40 and arr[i]<50):\n",
    "                third=third+1\n",
    "            else:\n",
    "                fail=fail+1\n",
    "        reportFile.write(\"Distinction: \"+str(dist)+'\\n')\n",
    "        reportFile.write(\"First: \"+str(first)+'\\n')\n",
    "        reportFile.write(\"second: \"+str(second)+'\\n')\n",
    "        reportFile.write(\"Third: \"+str(third)+'\\n')\n",
    "        reportFile.write(\"Fail: \"+str(fail)+'\\n')\n",
    "    return\n",
    "readMarksFromFile('DataFiles/marksData.txt')"
   ]
  },
  {
   "cell_type": "code",
   "execution_count": 15,
   "metadata": {},
   "outputs": [
    {
     "data": {
      "text/plain": [
       "0.0021756230000278265"
      ]
     },
     "execution_count": 15,
     "metadata": {},
     "output_type": "execute_result"
    }
   ],
   "source": [
    "import re,timeit\n",
    "def generateMarksReport(marksfile):\n",
    "    start=timeit.default_timer()\n",
    "    marksdata=readMarksFromFile(marksfile)\n",
    "    return timeit.default_timer()-start\n",
    "generateMarksReport('DataFiles/marksData.txt')"
   ]
  },
  {
   "cell_type": "markdown",
   "metadata": {},
   "source": [
    "### Libraries:"
   ]
  },
  {
   "cell_type": "code",
   "execution_count": 16,
   "metadata": {},
   "outputs": [
    {
     "name": "stdout",
     "output_type": "stream",
     "text": [
      "[[0 1 2]\n",
      " [3 4 5]]\n"
     ]
    },
    {
     "data": {
      "text/plain": [
       "numpy.ndarray"
      ]
     },
     "execution_count": 16,
     "metadata": {},
     "output_type": "execute_result"
    }
   ],
   "source": [
    "import numpy as np   #importing libraries\n",
    "a=np.array([[0,1,2],[3,4,5]])\n",
    "print(a)\n",
    "type(a)"
   ]
  },
  {
   "cell_type": "code",
   "execution_count": null,
   "metadata": {},
   "outputs": [],
   "source": []
  }
 ],
 "metadata": {
  "kernelspec": {
   "display_name": "Python 3",
   "language": "python",
   "name": "python3"
  },
  "language_info": {
   "codemirror_mode": {
    "name": "ipython",
    "version": 3
   },
   "file_extension": ".py",
   "mimetype": "text/x-python",
   "name": "python",
   "nbconvert_exporter": "python",
   "pygments_lexer": "ipython3",
   "version": "3.7.3"
  }
 },
 "nbformat": 4,
 "nbformat_minor": 2
}
