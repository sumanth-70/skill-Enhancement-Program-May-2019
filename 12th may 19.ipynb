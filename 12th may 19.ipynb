{
 "cells": [
  {
   "cell_type": "markdown",
   "metadata": {},
   "source": [
    "# Problem solving and programming\n",
    "\n",
    "## DAY-14\n",
    "\n",
    "## DATE- 12TH may 2019"
   ]
  },
  {
   "cell_type": "markdown",
   "metadata": {},
   "source": [
    "### PROBLEM 1:\n",
    "\n",
    "#### Problem statement:Define a function to validate email addresses based on the following rules.\n",
    "Email should be in the format username@domain.extension username must start with an alphabet and can contain lowercase alphabet, digits, hyphen(-) and underscores( _ ). username must not contain special characters, uppercase letters, whitespaces. Length of username must be in the range (6, 16) Domain can only contain lowercase alphabet and digits with length in range (3, 10) . No special characters are allowed Extension can only contain lower case alphabet and its length must be in the range (2, 4) First line of input contains total number of email addresses n. Next n lines contain n email addresses.\n",
    "\n",
    "#### Test cases:\n",
    "\n",
    "##### Output must contain contain n lines with either 'Valid' or 'Invalid'\n",
    "\n",
    "##### Sample Input : 6\n",
    "\n",
    "* abc456@gmail.com\n",
    "\n",
    "* 456abc@yahoo.com\n",
    "\n",
    "* abc_456@gitam.ed1\n",
    "\n",
    "* abc-456@abc-d.in\n",
    "\n",
    "* python@python.edu\n",
    "\n",
    "* abc 456@edu.edu\n",
    "\n",
    "##### Sample Output : \n",
    "\n",
    "* valid\n",
    "\n",
    "* Invalid\n",
    "\n",
    "* Invalid\n",
    "\n",
    "* Invalid\n",
    "\n",
    "* Valid\n",
    "\n",
    "* Invalid"
   ]
  },
  {
   "cell_type": "code",
   "execution_count": null,
   "metadata": {},
   "outputs": [],
   "source": [
    "def check(x):\n",
    "    count=1\n",
    "    count1=0\n",
    "    count2=0\n",
    "    if (x[0]>='a' and x[0]<='z'):\n",
    "        i=1\n",
    "        while(x[i]!='@'):\n",
    "            count=count+1\n",
    "            if(x[i]>='0' and x[i]<='9') or (x[i]>='a' and x[i]<='z') or x[i]=='-' or x[i]=='_':\n",
    "                print(end='')\n",
    "            else:\n",
    "                return 'invalid'\n",
    "            i=i+1\n",
    "        if (count<6 or count>16):\n",
    "            return 'invalid'\n",
    "        i=count+1\n",
    "        while(x[i]!='.'):\n",
    "            count1=count1+1\n",
    "            if(x[i]>='0' and x[i]<='9') or (x[i]>='a' and x[i]<='z'):\n",
    "                print(end='')\n",
    "            else:\n",
    "                return 'invalid'\n",
    "            i=i+1\n",
    "        if (count1<3 or count1>10):\n",
    "            return 'invalid'\n",
    "        for i in range(count1+count+2,len(x)):\n",
    "            count2=count2+1\n",
    "            if(x[i]>='a' and x[i]<='z'):\n",
    "                print(end='')\n",
    "            else:\n",
    "                return 'invalid'\n",
    "        if(count2<2 or count2>4):\n",
    "            return 'invalid'\n",
    "        return 'valid'\n",
    "    \n",
    "    else:\n",
    "        return 'invalid'\n",
    "\n",
    "           \n",
    "def checkmail(n):\n",
    "    for i in range(1,n+1):\n",
    "        x=input(\"enter email id:\")\n",
    "        if check(x)=='invalid':\n",
    "            print('invalid')\n",
    "        else:\n",
    "            print('valid')\n",
    "checkmail(5)"
   ]
  },
  {
   "cell_type": "markdown",
   "metadata": {},
   "source": [
    "### Problem 2:\n",
    "\n",
    "#### Problem statement:Pattern in the form\n",
    "\n",
    "#### * * * * *\n",
    "#### * * * *\n",
    "#### * * *|\n",
    "#### * *\n",
    "#### *"
   ]
  },
  {
   "cell_type": "code",
   "execution_count": 5,
   "metadata": {},
   "outputs": [
    {
     "name": "stdout",
     "output_type": "stream",
     "text": [
      "* * * * * \n",
      " \n",
      "* * * * \n",
      " \n",
      "* * * \n",
      " \n",
      "* * \n",
      " \n",
      "* \n",
      " \n",
      "\n",
      " \n"
     ]
    }
   ],
   "source": [
    "def pattern1():\n",
    "    for i in range(0,6):\n",
    "        for j in range(0,5-i):\n",
    "            print ('*', end=' ')\n",
    "        print(\"\\n \")   \n",
    "pattern1()"
   ]
  },
  {
   "cell_type": "markdown",
   "metadata": {},
   "source": [
    "### Problem 3:\n",
    "\n",
    "#### Problem statement:Pattern in the form\n",
    "\n",
    "#### *\n",
    "#### * *\n",
    "#### * * *\n",
    "#### * * * *\n",
    "#### * * * * *"
   ]
  },
  {
   "cell_type": "code",
   "execution_count": 7,
   "metadata": {},
   "outputs": [
    {
     "name": "stdout",
     "output_type": "stream",
     "text": [
      "* \n",
      " \n",
      "* * \n",
      " \n",
      "* * * \n",
      " \n",
      "* * * * \n",
      " \n",
      "* * * * * \n",
      " \n",
      "* * * * * * \n",
      " \n"
     ]
    }
   ],
   "source": [
    "def pattern2():\n",
    "    for i in range(0,6):\n",
    "        for j in range(0,1+i):\n",
    "            print ('*', end=' ')\n",
    "        print(\"\\n \")   \n",
    "pattern2()"
   ]
  },
  {
   "cell_type": "markdown",
   "metadata": {},
   "source": [
    "### Problem 4:\n",
    "\n",
    "#### Problem statement:Given a string, return a string where for every char in the original, there are two chars.\n",
    "\n",
    "#### Test cases:\n",
    "\n",
    "* double_char('The') → 'TThhee'\n",
    "* double_char('AAbb') → 'AAAAbbbb'\n",
    "* double_char('Hi-There') → 'HHii--TThheerree'"
   ]
  },
  {
   "cell_type": "code",
   "execution_count": 8,
   "metadata": {},
   "outputs": [
    {
     "data": {
      "text/plain": [
       "'AAAAbbbb'"
      ]
     },
     "execution_count": 8,
     "metadata": {},
     "output_type": "execute_result"
    }
   ],
   "source": [
    "def double_char(str):\n",
    "    a=''\n",
    "    for i in range(0,len(str)):\n",
    "        a=a+2*str[i]\n",
    "    return a\n",
    "double_char('AAbb')"
   ]
  },
  {
   "cell_type": "markdown",
   "metadata": {},
   "source": [
    "### Problem 5:\n",
    "\n",
    "#### Problem statement:Given a list of integers with duplicate elements in it.The task to generate another list, which contains only the duplicate elements.\n",
    "\n",
    "#### Test cases:\n",
    "\n",
    "* Input : list = [10, 20, 30, 20, 20, 30, 40, 50, -20, 60, 60, -20, -20]\n",
    "\n",
    "* Output : output_list = [20, 30, -20, 60]\n",
    "\n",
    "* Input :  list = [-1, 1, -1, 8]\n",
    "  \n",
    "* Output : output_list = [-1]"
   ]
  },
  {
   "cell_type": "code",
   "execution_count": 9,
   "metadata": {},
   "outputs": [
    {
     "data": {
      "text/plain": [
       "[20, 30, -20, 60]"
      ]
     },
     "execution_count": 9,
     "metadata": {},
     "output_type": "execute_result"
    }
   ],
   "source": [
    "def repeat(x):\n",
    "    repeated=[]\n",
    "    for i in range(0,len(x)):\n",
    "        for j in range(i+1,len(x)):\n",
    "            if x[i]==x[j] and x[i] not in repeated:\n",
    "                repeated.append(x[i])\n",
    "    return repeated\n",
    "repeat([10,20,30,20,20,30,40,50,-20,60,60,-20,-20])"
   ]
  },
  {
   "cell_type": "code",
   "execution_count": null,
   "metadata": {},
   "outputs": [],
   "source": []
  }
 ],
 "metadata": {
  "kernelspec": {
   "display_name": "Python 3",
   "language": "python",
   "name": "python3"
  },
  "language_info": {
   "codemirror_mode": {
    "name": "ipython",
    "version": 3
   },
   "file_extension": ".py",
   "mimetype": "text/x-python",
   "name": "python",
   "nbconvert_exporter": "python",
   "pygments_lexer": "ipython3",
   "version": "3.7.3"
  }
 },
 "nbformat": 4,
 "nbformat_minor": 2
}
