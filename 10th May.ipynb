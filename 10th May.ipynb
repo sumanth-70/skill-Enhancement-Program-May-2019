{
 "cells": [
  {
   "cell_type": "markdown",
   "metadata": {},
   "source": [
    "# Problem Solving and Programing\n",
    "\n",
    "\n",
    "\n",
    "## Day-12\n",
    "\n",
    "\n",
    "\n",
    "## Date-10th May 2019"
   ]
  },
  {
   "cell_type": "markdown",
   "metadata": {},
   "source": [
    "### Problem 1\n",
    "\n",
    "#### Problem Statement:Design a Procedure to calculate the maximum,minimum and average of N numbers.\n",
    "\n",
    "#### Constraints: The numbers will be in range[1,1000000000000000]\n",
    "\n",
    "#### Test Cases:\n",
    "* data (a[1,2,3,4,5])-> Max=5,Min=1,Avg=3\n"
   ]
  },
  {
   "cell_type": "code",
   "execution_count": 67,
   "metadata": {},
   "outputs": [
    {
     "name": "stdout",
     "output_type": "stream",
     "text": [
      "5\n",
      "1\n",
      "3\n"
     ]
    }
   ],
   "source": [
    "def MaxMinAvg(a):\n",
    "    print(max(a))\n",
    "    print(min(a))\n",
    "    avg=int((min(a)+max(a))/2)\n",
    "    print (avg)\n",
    "MaxMinAvg([1,2,3,4,5])"
   ]
  },
  {
   "cell_type": "markdown",
   "metadata": {},
   "source": [
    "### Problem 2:\n",
    "\n",
    "#### Problem Statement:Design a procedure to calculate the Square Root of a number without using the math function 'sqrt'.\n",
    "\n",
    "#### Constraints: The numbers will be in the range[1,1000000000000000]\n",
    "\n",
    "#### Test Cases:\n",
    "* Squareroot(36)-> 6\n"
   ]
  },
  {
   "cell_type": "code",
   "execution_count": 68,
   "metadata": {},
   "outputs": [
    {
     "name": "stdout",
     "output_type": "stream",
     "text": [
      "2.23606797749979\n",
      "6.0\n"
     ]
    }
   ],
   "source": [
    "def squareroot(n):\n",
    "    m=n**0.5\n",
    "    return m\n",
    "print(squareroot(5))\n",
    "print(squareroot(36))"
   ]
  },
  {
   "cell_type": "markdown",
   "metadata": {},
   "source": [
    "### Problem 3:\n",
    "\n",
    "#### Problem Statement:Generate Fibonacci series of N numbers.\n",
    "\n",
    "#### Constraints:The nimbers will be in range [1,10000000000000000]\n"
   ]
  },
  {
   "cell_type": "code",
   "execution_count": 69,
   "metadata": {},
   "outputs": [
    {
     "name": "stdout",
     "output_type": "stream",
     "text": [
      "0\n",
      "1\n",
      "1\n",
      "2\n",
      "3\n",
      "5\n",
      "8\n"
     ]
    }
   ],
   "source": [
    "def Fibonacci(n):\n",
    "    f1=0\n",
    "    f2=1\n",
    "    print(f1)\n",
    "    print(f2)\n",
    "    for i in range(2,n):\n",
    "        f3=f1+f2\n",
    "        print(f3)\n",
    "        f1=f2\n",
    "        f2=f3\n",
    "Fibonacci(7)        "
   ]
  },
  {
   "cell_type": "markdown",
   "metadata": {},
   "source": [
    "### Problem 4:\n",
    "\n",
    "#### Problem Solution:Power solution using Iteration & Recursion.\n"
   ]
  },
  {
   "cell_type": "code",
   "execution_count": 63,
   "metadata": {},
   "outputs": [
    {
     "data": {
      "text/plain": [
       "1024"
      ]
     },
     "execution_count": 63,
     "metadata": {},
     "output_type": "execute_result"
    }
   ],
   "source": [
    "# Iterative Solution\n",
    "def power(n,r):\n",
    "    prod=1\n",
    "    for i in range(1,r+1):               # Power solution using Iteration\n",
    "        prod=prod*n\n",
    "    return prod\n",
    "power(2,10)"
   ]
  },
  {
   "cell_type": "code",
   "execution_count": 64,
   "metadata": {},
   "outputs": [
    {
     "data": {
      "text/plain": [
       "1024"
      ]
     },
     "execution_count": 64,
     "metadata": {},
     "output_type": "execute_result"
    }
   ],
   "source": [
    "# Recursive Solution\n",
    "def recursivePower(n,r):\n",
    "    if r==1:\n",
    "        return n\n",
    "    else:                               # Power solution using Recursion\n",
    "        return recursivePower(n,r-1)*n\n",
    "recursivePower(2,10)"
   ]
  },
  {
   "cell_type": "markdown",
   "metadata": {},
   "source": [
    "### Problem 5:\n",
    "\n",
    "#### Problem Statement:Fcatorial using Iteration and Recursion "
   ]
  },
  {
   "cell_type": "code",
   "execution_count": 45,
   "metadata": {},
   "outputs": [
    {
     "data": {
      "text/plain": [
       "120"
      ]
     },
     "execution_count": 45,
     "metadata": {},
     "output_type": "execute_result"
    }
   ],
   "source": [
    "# Iterative Solution\n",
    "def factIterative(n):\n",
    "    fact=1\n",
    "    for i in range(n,1,-1):           # Factorial using Iteration\n",
    "        fact=fact*i\n",
    "    return fact\n",
    "factIterative(5)"
   ]
  },
  {
   "cell_type": "code",
   "execution_count": 61,
   "metadata": {},
   "outputs": [
    {
     "data": {
      "text/plain": [
       "120"
      ]
     },
     "execution_count": 61,
     "metadata": {},
     "output_type": "execute_result"
    }
   ],
   "source": [
    "# Recursive Solution\n",
    "def factRecursive(n):\n",
    "    if n==1:\n",
    "        return n\n",
    "    else:                             # Factorial using Recursion\n",
    "        return factRecursive(n-1)*n\n",
    "factRecursive(5)    "
   ]
  },
  {
   "cell_type": "markdown",
   "metadata": {},
   "source": [
    "### Problem 6:\n",
    "\n",
    "#### Problem Statement:GCD solution using Iteration and Recursion"
   ]
  },
  {
   "cell_type": "code",
   "execution_count": 54,
   "metadata": {},
   "outputs": [
    {
     "data": {
      "text/plain": [
       "2"
      ]
     },
     "execution_count": 54,
     "metadata": {},
     "output_type": "execute_result"
    }
   ],
   "source": [
    "# Iterative Solution\n",
    "def gcdIterative(a,b):\n",
    "    r=b%a\n",
    "    if(r==0):\n",
    "        return a\n",
    "    while r!=0:                       # GCD using Iteration\n",
    "        r=b%a\n",
    "        b=a\n",
    "        a=r\n",
    "    return b\n",
    "gcdIterative(34,60)        "
   ]
  },
  {
   "cell_type": "code",
   "execution_count": 65,
   "metadata": {},
   "outputs": [
    {
     "data": {
      "text/plain": [
       "8"
      ]
     },
     "execution_count": 65,
     "metadata": {},
     "output_type": "execute_result"
    }
   ],
   "source": [
    "# Recursive GCD\n",
    "def gcdRecursive(a,b):\n",
    "    if b%a==0:\n",
    "        return a                     # GCD using Recursion\n",
    "    else:\n",
    "        return gcdRecursive(b%a,a)\n",
    "gcdRecursive(40,56)        "
   ]
  },
  {
   "cell_type": "markdown",
   "metadata": {},
   "source": [
    "### Problem 7:\n",
    "\n",
    "####  Problem statement:Towers of Hanoi.\n",
    "\n",
    "#### Explanation:\n",
    "1. n-Disks:\n",
    "          \n",
    "      * move n-1 disks from source to temp\n",
    "      * move nth disk from source to dest\n",
    "      * move n-1 disks from temp to dest\n",
    "\n",
    "2. 3-Disks:\n",
    "\n",
    "      * move 2 disks from source to temp\n",
    "      * move 3rd disk from source to dest\n",
    "      * move 2 disks from temp to dest"
   ]
  },
  {
   "cell_type": "code",
   "execution_count": 66,
   "metadata": {},
   "outputs": [
    {
     "name": "stdout",
     "output_type": "stream",
     "text": [
      "Move 1 disk from A to B\n",
      "Move 2 disk from A to C\n",
      "Move 1 disk from B to C\n",
      "Move 2 disk from A to C\n"
     ]
    }
   ],
   "source": [
    "def towersOfHanoi(n,source,temp,dest):\n",
    "    if n==1:\n",
    "        print('Move',n,'disk from',source,'to',dest)\n",
    "        return\n",
    "    else:\n",
    "        towersOfHanoi(n-1,source,dest,temp)\n",
    "        print('Move',n,'disk from',source,'to',dest)\n",
    "        towersOfHanoi(n-1,temp,source,dest)\n",
    "        print('Move',n,'disk from',source,'to',dest)\n",
    "        return\n",
    "towersOfHanoi(2,'A','B','C')    \n",
    "\n",
    "        "
   ]
  },
  {
   "cell_type": "markdown",
   "metadata": {},
   "source": [
    "### Problem 8:\n",
    "\n",
    "#### Problem Statement:Generate Nth Fibonacci number using Recursion.\n",
    "\n"
   ]
  },
  {
   "cell_type": "code",
   "execution_count": 2,
   "metadata": {},
   "outputs": [
    {
     "data": {
      "text/plain": [
       "1"
      ]
     },
     "execution_count": 2,
     "metadata": {},
     "output_type": "execute_result"
    }
   ],
   "source": [
    "def Nthfib(n):\n",
    "    if n==1:\n",
    "        return 0\n",
    "    if n==2:\n",
    "        return 1\n",
    "    else:\n",
    "        return(Nthfib(n-1)+Nthfib(n-2))\n",
    "Nthfib(3)    "
   ]
  },
  {
   "cell_type": "markdown",
   "metadata": {},
   "source": [
    "### Problem 9:\n",
    "\n",
    "#### Problem statement:First N Prime Numbers."
   ]
  },
  {
   "cell_type": "code",
   "execution_count": 3,
   "metadata": {},
   "outputs": [
    {
     "data": {
      "text/plain": [
       "True"
      ]
     },
     "execution_count": 3,
     "metadata": {},
     "output_type": "execute_result"
    }
   ],
   "source": [
    "def prime(n):\n",
    "    count=0\n",
    "    for i in range(2,n):\n",
    "        if(n%i==0):\n",
    "            count=count+1\n",
    "        if count==0:\n",
    "            return True\n",
    "        else:\n",
    "            return False\n",
    "prime(5)"
   ]
  },
  {
   "cell_type": "code",
   "execution_count": 5,
   "metadata": {},
   "outputs": [
    {
     "name": "stdout",
     "output_type": "stream",
     "text": [
      "3 5 7 9 11 "
     ]
    }
   ],
   "source": [
    "def NPrime(n):\n",
    "    count=0\n",
    "    i=2\n",
    "    while(count!=n):\n",
    "         if(prime(i)==True):\n",
    "            print(i,end=\" \")\n",
    "            count=count+1\n",
    "         i=i+1\n",
    "NPrime(5)"
   ]
  },
  {
   "cell_type": "code",
   "execution_count": null,
   "metadata": {},
   "outputs": [],
   "source": []
  }
 ],
 "metadata": {
  "kernelspec": {
   "display_name": "Python 3",
   "language": "python",
   "name": "python3"
  },
  "language_info": {
   "codemirror_mode": {
    "name": "ipython",
    "version": 3
   },
   "file_extension": ".py",
   "mimetype": "text/x-python",
   "name": "python",
   "nbconvert_exporter": "python",
   "pygments_lexer": "ipython3",
   "version": "3.7.3"
  }
 },
 "nbformat": 4,
 "nbformat_minor": 2
}
