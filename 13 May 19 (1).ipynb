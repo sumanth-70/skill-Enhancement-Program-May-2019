{
 "cells": [
  {
   "cell_type": "markdown",
   "metadata": {},
   "source": [
    "# Problem solving and programming\n",
    "\n",
    "## DAY-15\n",
    "\n",
    "## DATE- 13th May 2019"
   ]
  },
  {
   "cell_type": "markdown",
   "metadata": {},
   "source": [
    "### Problem 1:\n",
    "\n",
    "#### Problem statement:Design a Python script to determine the difference in date for given two dates in YYYY:MM:DD\n",
    "      format(0 <= YYYY <= 9999, 1 <= MM <= 12, 1 <= DD <= 31) following the leap year rules.\n",
    "      Return the total number of days existing between the two dates.\n",
    "#### Test cases: -\n",
    "\n",
    "* DateDifference('2019:05:10', '2019:05:01') -> 9\n",
    "* DateDifference('0003:03:03', '0003:06:06') -> 95"
   ]
  },
  {
   "cell_type": "code",
   "execution_count": 2,
   "metadata": {},
   "outputs": [
    {
     "data": {
      "text/plain": [
       "731"
      ]
     },
     "execution_count": 2,
     "metadata": {},
     "output_type": "execute_result"
    }
   ],
   "source": [
    "def datedifference(date1,date2):\n",
    "    if yearfromdate(date1)==yearfromdate(date2):\n",
    "        return abs(totaldaysfordate(date1)- totaldaysfordate(date2))\n",
    "    elif yearfromdate(date2) - yearfromdate(date1) == 1:\n",
    "        return  totaldaysdateendyear(date1)+ totaldaysfordate(date2)\n",
    "    else:\n",
    "        sum=totaldaysdateendyear(date1)+ totaldaysfordate(date2)\n",
    "        year1=yearfromdate(date1)\n",
    "        year2=yearfromdate(date2)\n",
    "        for i in range(year1+1,year2):\n",
    "            sum+=numdaysinyear(i)\n",
    "        return sum\n",
    "        \n",
    "def daysinfeb(year):\n",
    "    if(year% 400 ==0) or (year%100!=0 and year% 4 ==0):\n",
    "        return 29\n",
    "    return 28\n",
    "def numdaysinmonth(month,year):\n",
    "    monthDays={'01':31,'03':31,'04':30,'05':31,'06':30,'07':31,'08':31,'09':30,'10':31,'11':30,'12':31}\n",
    "    if month==2:\n",
    "        return daysinfeb(year)\n",
    "    elif (month<=7 and month!=2 and month%2==0) or (month>7 and month%2!=0):\n",
    "        return 30\n",
    "    else:\n",
    "        return 31\n",
    "def numdaysinyear(year):\n",
    "    if daysinfeb(year)==29:\n",
    "        return 366\n",
    "    else:\n",
    "        return 365\n",
    "def totaldaysfordate(date):\n",
    "    year=yearfromdate(date) ##extract year as an integer\n",
    "    month=monthfromdate(date) ##extract the month as an integer\n",
    "    day=daysfromdate(date) ##extract the day as an integer\n",
    "    sum=0\n",
    "    for i in range(1,month):\n",
    "        sum=sum+ numdaysinmonth(i,year)\n",
    "    sum+=day\n",
    "    return sum\n",
    "\n",
    "def yearfromdate(date):\n",
    "    return int(date[:4])\n",
    "def monthfromdate(date):\n",
    "    return int(date[5:7])\n",
    "def daysfromdate(date):\n",
    "    return int(date[len(date)-2:])\n",
    "\n",
    "def totaldaysdateendyear(date):\n",
    "    year=yearfromdate(date) ##extract year as an integer\n",
    "    month=monthfromdate(date) ##extract the month as an integer\n",
    "    day=daysfromdate(date) ##extract the day as an integer\n",
    "    sum=0\n",
    "    for i in range(month+1,13):\n",
    "        sum=sum+numdaysinmonth(i,year)\n",
    "    sum+=(numdaysinmonth(month,year)-day+1)    \n",
    "    return sum\n",
    "    \n",
    "datedifference('0001:12:28','0003:12:28')"
   ]
  },
  {
   "cell_type": "code",
   "execution_count": null,
   "metadata": {},
   "outputs": [],
   "source": [
    "from datetime import date,datetime\n",
    "def datedifference1(date1,date2):\n",
    "    year1=yearfromdate(date1) ##extract year as an integer\n",
    "    month1=monthfromdate(date1) ##extract the month as an integer\n",
    "    day1=daysfromdate(date1)\n",
    "    year2=yearfromdate(date2) ##extract year as an integer\n",
    "    month2=monthfromdate(date2) ##extract the month as an integer\n",
    "    day2=daysfromdate(date2)\n",
    "    d1=date(year=year1,month=month1,day=day1)\n",
    "    d2=date(year=year2,month=month2,day=day2)\n",
    "    print(d2-d1)\n",
    "    return\n",
    "datedifference1('0001:01:28','0002:01:28')"
   ]
  },
  {
   "cell_type": "markdown",
   "metadata": {},
   "source": [
    "### Problem 2:\n",
    "\n",
    "### Problem statement:You are given n words. Some words may repeat. For each word, output its number of occurrences. The output order should correspond with the input order of appearance of the word. First line of input contains the total number of words n. Next n lines contain words that need to processed.\n",
    "### First line of the output should contain the total number distinct words. Second line of output must contain the frequency of words the same order of their appearance as in the input\n",
    "\n",
    "#### Test cases: -\n",
    "* Sample Input : 6\n",
    "\n",
    "* abcd\n",
    "\n",
    "* ijkl\n",
    "\n",
    "* abcd\n",
    "\n",
    "* pqrs\n",
    "\n",
    "* abcd\n",
    "\n",
    "* ijkl\n",
    "\n",
    "* Sample Output : 3\n",
    "* 3 2 1"
   ]
  },
  {
   "cell_type": "code",
   "execution_count": 3,
   "metadata": {},
   "outputs": [
    {
     "name": "stdout",
     "output_type": "stream",
     "text": [
      "unique elements 5\n",
      "3  1  2  2  1  "
     ]
    }
   ],
   "source": [
    "def search(n,a):\n",
    "    count=1\n",
    "    count1=0\n",
    "    x=[]\n",
    "    x.append(a[0])\n",
    "    for i in range(1,n):\n",
    "        p=0\n",
    "        for j in range(0,len(x)):\n",
    "            if a[i]==x[j]:\n",
    "                p=p+1\n",
    "        if p==0:\n",
    "            x.append(a[i])\n",
    "            count=count+1\n",
    "    print('unique elements',count)\n",
    "    for i in range(0,len(x)):\n",
    "        for j in range(0,len(a)):\n",
    "            if x[i] == a[j]:\n",
    "                count1=count1+1\n",
    "        print(count1,end='  ')\n",
    "        count1=0\n",
    "\n",
    "search(9,['qwe','yy','qwe','tyy','qwe','lll','tyy','lkl','lll'])"
   ]
  },
  {
   "cell_type": "code",
   "execution_count": null,
   "metadata": {},
   "outputs": [],
   "source": []
  }
 ],
 "metadata": {
  "kernelspec": {
   "display_name": "Python 3",
   "language": "python",
   "name": "python3"
  },
  "language_info": {
   "codemirror_mode": {
    "name": "ipython",
    "version": 3
   },
   "file_extension": ".py",
   "mimetype": "text/x-python",
   "name": "python",
   "nbconvert_exporter": "python",
   "pygments_lexer": "ipython3",
   "version": "3.7.3"
  }
 },
 "nbformat": 4,
 "nbformat_minor": 2
}
